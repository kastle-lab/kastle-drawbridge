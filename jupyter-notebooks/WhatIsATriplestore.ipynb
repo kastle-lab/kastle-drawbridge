{
  "nbformat": 4,
  "nbformat_minor": 0,
  "metadata": {
    "colab": {
      "provenance": []
    },
    "kernelspec": {
      "name": "python3",
      "display_name": "Python 3"
    },
    "language_info": {
      "name": "python"
    }
  },
  "cells": [
    {
      "cell_type": "code",
      "execution_count": null,
      "metadata": {
        "id": "tx0rG-HcWYX5"
      },
      "outputs": [],
      "source": []
    },
    {
      "cell_type": "markdown",
      "source": [],
      "metadata": {
        "id": "a_1kYwuIWa_c"
      }
    },
    {
      "cell_type": "markdown",
      "source": [
        "* A database specifically designed for storing and retrieving triples through semantic queries."
      ],
      "metadata": {
        "id": "bmFb0naPWbGd"
      }
    },
    {
      "cell_type": "markdown",
      "source": [
        "* The basic data structure consists of three parts: subject, predicate, and object (often represented as (S, P, O)).\n",
        "   * Example: (\"Cogan\", \"isA\", \"Dr.\") where \"Cogan\" is the subject, \"isA\" is the predicate, and \"Dr.\" is the object."
      ],
      "metadata": {
        "id": "EG3GHYqmWk6V"
      }
    },
    {
      "cell_type": "markdown",
      "source": [
        "* KASTLE-Lab uses the Apache Jena Fuseki Triplestrore.\n",
        "* IT works along SPARQL, a query language and runs on a server.\n",
        "* It is user and storage friendly."
      ],
      "metadata": {
        "id": "J-L8CrmEWw3s"
      }
    },
    {
      "cell_type": "markdown",
      "source": [
        "* SPARQL (SPARQL Protocol and RDF Query Language) is a query language and protocol used to query and manipulate RDF (Resource Description Framework) data.\n",
        "* Built to exract data in RDF format, peerfect for validating and querying/ testing our Knowldge Graph(KG) after we materialize it.\n"
      ],
      "metadata": {
        "id": "wDzGNNjUXMck"
      }
    },
    {
      "cell_type": "markdown",
      "source": [
        "* Syntax Elements:\n",
        "\n",
        "  * PREFIX: Declares namespace prefixes to shorten URIs in queries.\n",
        "  * SELECT: Specifies the variables to be returned in the query result.\n",
        "  * WHERE: Defines the triple patterns and constraints that the data must match.\n",
        "  * FILTER: Applies conditions to restrict query results based on specified criteria.\n",
        "  * ORDER BY: Sorts query results based on variable values.\n",
        "  * LIMIT and OFFSET: Control the number of results returned and pagination."
      ],
      "metadata": {
        "id": "UuX4exfRXnsj"
      }
    },
    {
      "cell_type": "markdown",
      "source": [
        "* Example Query to retrieve a name:\n",
        "\n",
        "```\n",
        "PREFIX kastle-lab: <https://kastle-lab.org/>\n",
        "\n",
        "SELECT ?name\n",
        "WHERE {\n",
        "  ?person kastle-lab:name ?name .\n",
        "}\n",
        "```"
      ],
      "metadata": {
        "id": "1BwQJ3izX-Jv"
      }
    },
    {
      "cell_type": "markdown",
      "source": [
        "* Follow this documentation on how to access [Apache Jena Fuseki](https://github.com/kastle-lab/ink-browser) and add your materialized dataset. Then, construct some queries that answer the Competency Questions you have documented when you first started creating your KG."
      ],
      "metadata": {
        "id": "lLld3ST0X0o5"
      }
    },
    {
      "cell_type": "markdown",
      "source": [
        "Sources:\n",
        "\n",
        "[1] [Triplestores](https://www.w3.org/2001/sw/wiki/Category:Triple_Store)\n",
        "\n",
        "[2] [Apache Jena](https://www.w3.org/2001/sw/wiki/Apache_Jena)\n",
        "\n",
        "[3] [SPARQL](https://www.w3.org/TR/sparql11-overview/)"
      ],
      "metadata": {
        "id": "3BeVYm8KZC7y"
      }
    }
  ]
}