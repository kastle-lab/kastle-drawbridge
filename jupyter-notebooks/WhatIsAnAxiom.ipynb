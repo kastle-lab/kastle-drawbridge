{
  "nbformat": 4,
  "nbformat_minor": 0,
  "metadata": {
    "colab": {
      "provenance": []
    },
    "kernelspec": {
      "name": "python3",
      "display_name": "Python 3"
    },
    "language_info": {
      "name": "python"
    }
  },
  "cells": [
    {
      "cell_type": "code",
      "execution_count": null,
      "metadata": {
        "id": "HkiW9bGBwJQl"
      },
      "outputs": [],
      "source": []
    },
    {
      "cell_type": "markdown",
      "source": [
        "Axioms are _asserted_ constraints to how a knowledge graph can be constructed."
      ],
      "metadata": {
        "id": "VZ7v38pGwNAh"
      }
    },
    {
      "cell_type": "markdown",
      "source": [
        "Example:\n",
        "* Person(Cogan), hasFather(Cogan, Bill)\n",
        "The above example is written in `First Order Predicate Logic`. In the above example, we assert that Cogan is a Person.  It is also asserted that Cogan has a father, and that father is Bill."
      ],
      "metadata": {
        "id": "7pV5dK0SwNHi"
      }
    },
    {
      "cell_type": "markdown",
      "source": [
        "### Closed World Assumptions\n",
        "* Implies that attributes outside the ontology that are not explicitly stated are considered 'False'.\n",
        "\n",
        "### Open World Assumptions\n",
        "* Implies that attributes outside the ontology CAN be 'True' (implied).\n",
        "\n",
        "### Common Axioms and their descriptions\n",
        "The below illustrates in `Figure 2` common axioms written in Description Logic syntax (discussed in the next section). The numbered list in this depiction describes the axioms in natural language.\n",
        "\n",
        "![17 axioms](https://github.com/kastle-lab/kastle-drawbridge/assets/70174975/8d3d557f-059a-44cc-a806-068f0222dc5c)\n"
      ],
      "metadata": {
        "id": "mfQxVPtHwNL8"
      }
    },
    {
      "cell_type": "markdown",
      "source": [
        "To Do: Please provide two examples for an Open World and a Closed World assumption. ( You can use the family tree dataset showcased below in a schrma diagram if you like )"
      ],
      "metadata": {
        "id": "LlQTIS1aS0ki"
      }
    },
    {
      "cell_type": "markdown",
      "source": [
        "To Do: Please provide or \"match\" what axioms are appropriate for the following schema of a family tree dataset"
      ],
      "metadata": {
        "id": "_Zc8jwDEUItK"
      }
    },
    {
      "cell_type": "code",
      "source": [
        "from IPython.display import Image, display\n",
        "\n",
        "\n",
        "image_url = \"https://raw.githubusercontent.com/kastle-lab/kastle-drawbridge/master/knowledge-graphs/family-tree/schema-diagram/family-tree.jpg\"\n",
        "\n",
        "display(Image(url=image_url))\n"
      ],
      "metadata": {
        "colab": {
          "base_uri": "https://localhost:8080/",
          "height": 969
        },
        "id": "GkFRTgrIVCp6",
        "outputId": "9ade1194-beda-402b-fe38-c9fb5a042d52"
      },
      "execution_count": 4,
      "outputs": [
        {
          "output_type": "display_data",
          "data": {
            "text/html": [
              "<img src=\"https://raw.githubusercontent.com/kastle-lab/kastle-drawbridge/master/knowledge-graphs/family-tree/schema-diagram/family-tree.jpg\"/>"
            ],
            "text/plain": [
              "<IPython.core.display.Image object>"
            ]
          },
          "metadata": {}
        }
      ]
    },
    {
      "cell_type": "markdown",
      "source": [
        "## [Description Logic](https://corescholar.libraries.wright.edu/cse/185/)\n",
        "> \"Description logics (DLs) is a family of knowledge representation (KR) languages which represent knowledge in a domain of interest using formal, logic-based semantics through knowledge bases (KBs) containing general assertions of describing relevant concepts - hence, the term description - and specific assertions about individuals and relationships among them.\" (Krisnadhi, 2014)\n",
        "\n",
        "Description Logic, as a set of knowledge representation languages, encompasses the formal representation of knowledge with admittances of _truths_ in the world.  \n",
        "\n",
        "Knowledge can be formally defined with the concepts of TBox and ABox where:\n",
        "- TBox is a set of axioms constraining terminology definitions (`concepts` or `roles`)\n",
        "- ABox is a set of axioms constraining  `named individuals` (First-Order Logic(R(a,b))\n",
        "Additionally, Description Logic includes another concept, RBox where:\n",
        "- RBox is a set of axioms constraining `roles`\n"
      ],
      "metadata": {
        "id": "GDXEPUXaS8TC"
      }
    },
    {
      "cell_type": "markdown",
      "source": [
        "> \"A description logic (DL) models `concepts`, `roles` and `individuals`, and `their relationships`.\" - [Wikipedia](https://en.wikipedia.org/wiki/Description_logic)\n",
        "\n",
        "These asserted admittances are broken down from concept and role constructors:\n",
        "1. Top and Concept, represented respectively by Tautology(⊤,up tack, falsum, \\tee) and Contradiction((⊥, down tack, verum, \\bot)\n",
        "2. nominal\n",
        "3. Intersection and Union\n",
        "4. Complements (Negation)\n",
        "5. Universal Restrictions\n",
        "6. Existential Restrictions\n",
        "7. Cardinality Restrictions (at minimum, at maximum, exactly)\n",
        "\n",
        "### From _ALC_ to _SROIQ_\n",
        "- _ALC_, or Attributed Language with general Complement,\n",
        "  - _ALC_ provides support from the above list with including admittances for 1, 3, 4, and 7, along with `TBox` axioms (axioms constraining concepts), and `ABox` axioms (axioms constraining named individuals).\n",
        "- _SHIF_ extends from _ALC_ and adds `Role` admittances\n",
        "- _SHOIN_ adds from _SHIF_ with including #2 and #7\n",
        "- _SROIQ_ combines all of the above with `RBox` Axioms and extends additional constraints to `Roles` and applies numeric conditions and qualifications for 5, 6, 7.\n"
      ],
      "metadata": {
        "id": "oG0l1skIwNPT"
      }
    },
    {
      "cell_type": "markdown",
      "source": [
        "Sources:\n",
        "\n",
        "[1] [Github Repo of open-kg-curriculum](https://github.com/KGConf/open-kg-curriculum/tree/master/curriculum/modules)\n",
        "\n",
        "[2] [W3 Wiki](https://www.w3.org/wiki/LinkedData)\n",
        "\n",
        "[3] [List of Logic Symbols](https://en.wikipedia.org/wiki/List_of_logic_symbols)\n",
        "\n",
        "[4] [Description Logic](https://www.w3.org/2005/Talks/0412-HK-Guangzhou-IH/Slides.php?n=108)\n",
        "\n",
        "[5] [First Order Predicate Logic](https://www.w3.org/2000/07/hs78/FOPC)"
      ],
      "metadata": {
        "id": "9kG5KGsiTXS7"
      }
    }
  ]
}