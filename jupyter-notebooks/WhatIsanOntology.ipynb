{
  "nbformat": 4,
  "nbformat_minor": 0,
  "metadata": {
    "colab": {
      "provenance": []
    },
    "kernelspec": {
      "name": "python3",
      "display_name": "Python 3"
    },
    "language_info": {
      "name": "python"
    }
  },
  "cells": [
    {
      "cell_type": "code",
      "execution_count": null,
      "metadata": {
        "id": "40mmz-EKF85F"
      },
      "outputs": [],
      "source": []
    },
    {
      "cell_type": "markdown",
      "source": [
        "* \"is a branch of philosophy...as it considers how knowledge, language, and perception relate to the nature of reality.\"\n",
        "* onto-,from the Greek, \"being; that which is\"\n",
        "* logia \"logical discourse\""
      ],
      "metadata": {
        "id": "ofQX0ZrMGIFJ"
      }
    },
    {
      "cell_type": "markdown",
      "source": [],
      "metadata": {
        "id": "_P_Xih_0GIHs"
      }
    },
    {
      "cell_type": "markdown",
      "source": [
        "* A formalization, determining whether data can or cannot be related. That formalization is guaranteeing uniformity during the ontology building.\n",
        "* Acts as the skeleton of the Knowledge Graph(KG).\n",
        "* By using a set of rules called “Axioms”, uniformity is formed.\n"
      ],
      "metadata": {
        "id": "70bbuu0RGIKk"
      }
    },
    {
      "cell_type": "markdown",
      "source": [
        "### References\n",
        "[1] [What is an Ontology] (https://github.com/KGConf/open-kg-curriculum/blob/master/curriculum/modules/What_is_an_Ontology/What_is_an_Ontology.md)\n",
        "\n",
        "[2] https://www.w3.org/TR/vocab-org/"
      ],
      "metadata": {
        "id": "R5BYIuK8GIMn"
      }
    },
    {
      "cell_type": "code",
      "source": [],
      "metadata": {
        "id": "YDFtpq6oHCKD"
      },
      "execution_count": null,
      "outputs": []
    }
  ]
}