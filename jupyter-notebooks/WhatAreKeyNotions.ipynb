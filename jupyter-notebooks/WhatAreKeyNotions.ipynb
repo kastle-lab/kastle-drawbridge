{
  "nbformat": 4,
  "nbformat_minor": 0,
  "metadata": {
    "colab": {
      "provenance": []
    },
    "kernelspec": {
      "name": "python3",
      "display_name": "Python 3"
    },
    "language_info": {
      "name": "python"
    }
  },
  "cells": [
    {
      "cell_type": "code",
      "execution_count": null,
      "metadata": {
        "id": "joGgKBZk1Wbr"
      },
      "outputs": [],
      "source": []
    },
    {
      "cell_type": "markdown",
      "source": [
        "* Fundamental concepts or entities within a Knowledge Graph (KG) in order to effectively utilize structured data."
      ],
      "metadata": {
        "id": "Ndqhqpv0giZS"
      }
    },
    {
      "cell_type": "markdown",
      "source": [
        "* They represent the fundamental concepts, properties/attributes, and relationships that form the structure of a KG."
      ],
      "metadata": {
        "id": "dG2EFoFAgidQ"
      }
    },
    {
      "cell_type": "markdown",
      "source": [
        "\n",
        "* Patterns serve as \"templates\" to represent those concepts/ attributes/ relationships. They ensure usability within the Ontology building process across different domains.\n",
        "* They are categorized as follows by their use-cases:\n",
        "  * Metapatterns -\n",
        "Explicit Typing,\n",
        "Property Reification,\n",
        "Stubs\n",
        "  * Organization of Data - Aggregation, Bag, Collection Sequence, List\n",
        "Tree\n",
        "  * Space, Time, and Movement - Spatiotemporal Extent,  Spatial Extent, Temporal Extent,\n",
        "Trajectory,\n",
        "Event\n",
        "  * Agents and Roles - AgentRole,  ParticipantRole,\n",
        "Name Stub\n",
        "  * Description and Details - Quantities and Units,  Partonymy/Meronymy, Provenance, Identifier\n",
        "\n"
      ],
      "metadata": {
        "id": "ETT5bKMYgihJ"
      }
    },
    {
      "cell_type": "markdown",
      "source": [
        "* By reading through this [paper](https://arxiv.org/pdf/1904.05405) , please identify the key notions of this example attributes of a plane related dataset:\n",
        "    *  CrashType\n",
        "    * PlaneModel\n",
        "    * PlaneID\n",
        "    * ManufacturingCompany\n",
        "    * Part"
      ],
      "metadata": {
        "id": "--VYSjL2gijP"
      }
    },
    {
      "cell_type": "markdown",
      "source": [
        "Sources:\n",
        "\n",
        "[1] [\"MODL: A Modular Ontology Design Library\"](https://arxiv.org/pdf/1904.05405)\n",
        "\n",
        "[2] [\"ODP List\"](http://ontologydesignpatterns.org/wiki/Submissions:ContentOPs)"
      ],
      "metadata": {
        "id": "Rl-87-rigilz"
      }
    },
    {
      "cell_type": "markdown",
      "source": [],
      "metadata": {
        "id": "A5L31soUgiog"
      }
    },
    {
      "cell_type": "markdown",
      "source": [],
      "metadata": {
        "id": "vx-kV1VPgiq2"
      }
    }
  ]
}