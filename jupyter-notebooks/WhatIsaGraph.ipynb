{
  "nbformat": 4,
  "nbformat_minor": 0,
  "metadata": {
    "colab": {
      "provenance": []
    },
    "kernelspec": {
      "name": "python3",
      "display_name": "Python 3"
    },
    "language_info": {
      "name": "python"
    }
  },
  "cells": [
    {
      "cell_type": "code",
      "execution_count": null,
      "metadata": {
        "id": "RV7O9HN9BGNX"
      },
      "outputs": [],
      "source": []
    },
    {
      "cell_type": "markdown",
      "source": [
        " Formal Definition\n",
        "\n",
        " * A graph `G` is an ordered pair (V,E), where V represents a set of Vertices, and E represents a set of Edges.\n",
        "* A Vertex is also referred to as a `Node`, or a plotted point in the graph G.\n",
        "* An Edge connects two vertices, commonly denoted as `u` and `v`.\n",
        "* A Graph is a non-linear data structure that consists of vertices (nodes) and edges.[1]\n",
        "* Graphs are non-linear because the data structure allows us to have different paths to get from one vertex to another, unlike with linear data structures like Arrays or Linked Lists."
      ],
      "metadata": {
        "id": "zb8Zv8C1pd48"
      }
    },
    {
      "cell_type": "markdown",
      "source": [
        "Types of Graphs\n",
        "### Directed Graph\n",
        "A `Directed Graph` refers to the directionality to which an edge `e` connects to vertices `(u, v)`, which causes a distinction between traversing from `(u,v)` versus `(v,u)`.\n",
        "\n",
        "### Undirected Graph\n",
        "An `Undirected Graph` refers to the fact that an edge `e` has no directional association to vertices `(u,v)`, which means traversing from `(u,v)` is the same as `(v,u)`.\n",
        "\n",
        "### Weighted Graph\n",
        "A `Weighted Graph` refers to a graph G that has arbitrary values associated to the set of Vertices and set of Edges. These weights facilitate in modeling real objects and relationships between nodes. For example, the path you take to travel from your house to campus varies in travel-time pending the turns you might take along the way.\n",
        "\n",
        "## References\n",
        "[1] [W3 Schools](https://www.w3schools.com/dsa/dsa_theory_graphs.php)  \n",
        "[2] [Graph Theory by Carnegie Mellon University](https://www.andrew.cmu.edu/course/21-228/lec10.pdf)\n"
      ],
      "metadata": {
        "id": "4PoHS_9ApeG2"
      }
    },
    {
      "cell_type": "markdown",
      "source": [],
      "metadata": {
        "id": "qS3LQk1OpeKO"
      }
    }
  ]
}